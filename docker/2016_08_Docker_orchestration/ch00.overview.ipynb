{
 "cells": [
  {
   "cell_type": "markdown",
   "metadata": {},
   "source": [
    "# Docker Orchestration\n",
    "\n",
    "- 타이틀: 도커 오케스트레이션: 애플리케이션 빌드, 테스트, 배포의 통합 관리\n",
    "- 저자: 슈리크리슈나 홀라\n",
    "- 역자: 이기곤\n",
    "- 출판사: 한빛미디어\n",
    "- 발행일: 2015.12.10\n",
    "- 페이지: 166\n",
    "\n"
   ]
  },
  {
   "cell_type": "markdown",
   "metadata": {},
   "source": [
    "## 저자 서문\n",
    "\n",
    "- Docker는 애플리케이션 샌드박싱 기실의 혁명을 가져온 리눅스 컨테이너 기술\n",
    "  - 개발 환경을 빠르게 구성\n",
    "  - 애플리케이션 배포 환경의 단순화\n",
    "  \n",
    "- Docker의 실행 영역\n",
    "  - 개발 환경\n",
    "  - 사설 서버\n",
    "  - 가상화 클라우드 인스턴스"
   ]
  },
  {
   "cell_type": "markdown",
   "metadata": {},
   "source": [
    "## 역자 서문"
   ]
  },
  {
   "cell_type": "markdown",
   "metadata": {},
   "source": [
    "- 클라우드 서비스의 발생 원인\n",
    "  - 점점 복잡해지는 서비스와 거대해지는 데이터를 해결하려는 연구\n",
    "  - 서버 설치의 이슈를 해결\n",
    "- 애플리케이션 실행 환경 구성의 단순화\n",
    "  - Ansible\n",
    "  - Puppet\n",
    "  - Chef\n",
    "- Docker: 애플리케이션 배포 환경 구성 단순화를 위한 노력\n",
    "  - 완변한 격리 공간 제공\n",
    "  - 의존성과 같은 기술적인 문제로 해방\n"
   ]
  },
  {
   "cell_type": "markdown",
   "metadata": {},
   "source": [
    "## 목차"
   ]
  },
  {
   "cell_type": "markdown",
   "metadata": {},
   "source": [
    "- 1장 Docker 뜯어보기\n",
    "- 2장 Docker 명령어와 Dockerfile\n",
    "- 3장 Docker 컨테이너 설정\n",
    "- 4장 자동화와 보안\n",
    "  - Supervisor\n",
    "    - 서비스 조직화\n",
    "    - 서비스 탐색\n",
    "    - Docerk 보안\n",
    "- 5장 도커와 친구들"
   ]
  },
  {
   "cell_type": "markdown",
   "metadata": {},
   "source": [
    "## 예제 코드\n",
    "- http://www.hanbit.co.kr/exam/2793"
   ]
  }
 ],
 "metadata": {
  "kernelspec": {
   "display_name": "Python 3",
   "language": "python",
   "name": "python3"
  },
  "language_info": {
   "codemirror_mode": {
    "name": "ipython",
    "version": 3
   },
   "file_extension": ".py",
   "mimetype": "text/x-python",
   "name": "python",
   "nbconvert_exporter": "python",
   "pygments_lexer": "ipython3",
   "version": "3.5.2"
  }
 },
 "nbformat": 4,
 "nbformat_minor": 0
}
