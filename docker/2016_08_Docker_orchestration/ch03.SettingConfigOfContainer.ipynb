{
 "cells": [
  {
   "cell_type": "markdown",
   "metadata": {},
   "source": [
    "# 3장 컨테이너 설정"
   ]
  },
  {
   "cell_type": "markdown",
   "metadata": {},
   "source": [
    "## 3.1 자원 제한\n",
    "### 3.1.1. CPU 우선 순위\n",
    "- ```-c``` 플래그로 설정\n",
    "- 모든 컨테이너는 동일한 우선순위가 지정됨\n",
    "- 임의의 우선순위를 지정\n",
    "\n",
    "```\n",
    "docker run -c 10 -it ubuntu /bin/bash\n",
    "\n",
    "```"
   ]
  },
  {
   "cell_type": "markdown",
   "metadata": {},
   "source": [
    "## 3.1.2 메모리 제한\n",
    "\n",
    "- ```-m``` 플래그로 설정\n",
    "- ```-m <사이즈><단위>```\n",
    "\n",
    "```\n",
    "docker rum -m 1000m -it ubuntu /bin/bash\n",
    "```"
   ]
  },
  {
   "cell_type": "markdown",
   "metadata": {},
   "source": [
    "- cpu와 memory는 다음 위치에서 확인 및 변경 가능\n",
    "\n",
    "```\n",
    "cat /sys/fs/cgroup/memory/<container_id>/memory.limit_in_bytes\n",
    "cat /sys/fs/cgroup/memory/<container_id>//cpu.shares\n",
    "```\n",
    "\n",
    "- 런타임 변경 가능\n",
    "\n",
    "```\n",
    "echo <크기> > /sys/fs/cgroup/memory/<container_id>/memory.limit_in_bytes\n",
    "echo <우선순위> > cat /sys/fs/cgroup/memory/<container_id>/cpu.shares\n",
    "```\n",
    "\n",
    "- cgroup의 위치 확인\n",
    "\n",
    "```\n",
    "grep -w cgroup /proc/mounts | grep -w memory\n",
    "\n",
    "```"
   ]
  },
  {
   "cell_type": "markdown",
   "metadata": {},
   "source": [
    "### 3.1.3 디스크 제한\n",
    "- device-mapper를 사용\n",
    "- 운영체제의 마운트 단계에서 설정"
   ]
  },
  {
   "cell_type": "markdown",
   "metadata": {},
   "source": [
    "## 3.2 컨테이너 내부 데이터 관리"
   ]
  },
  {
   "cell_type": "markdown",
   "metadata": {},
   "source": [
    "- ```-v``` 옵션으로 구성 가능\n",
    "- 하나의 볼륨은 여러 컨테이너가 공유할 수 있음\n",
    "- 참조하는 컨테이너가 없으면 소멸"
   ]
  },
  {
   "cell_type": "markdown",
   "metadata": {},
   "source": [
    "### 3.2.1 데이터 전용 컨테이넠\n",
    "\n",
    "- ```--volumes-froms```을 사용하여 다른 컨테이너가 생성한 볼륨을 참조할 수 있음\n",
    "\n",
    "```\n",
    "docker run -v /data/db --name data-only mongo echo \"MongoDB stores all data in /data/db\"\n",
    "docker run --volumes-from data-only -p 27017:27017 -name mongodb-server mongo mongod\n",
    "\n",
    "```"
   ]
  },
  {
   "cell_type": "markdown",
   "metadata": {},
   "source": [
    "## docker link 정리\n",
    "\n",
    "- link옵션의 형식\n",
    "  - ```--link <container_name>:<alias_name>```\n",
    "- link 옵션을 설정하여 docker 컨테이너를 생성하면 link에 등록된 컨테이너 명, 해당 컨테이너 id, 컨테이너 alias를 hosts파일에 등록함\n",
    "- docker가 하나의 host에 운영될 때 ip가 아닌 container 명 혹은 alias로 다른 서버를 참조하기에 유용함\n",
    "\n",
    "### 데모\n",
    "- 시나리오\n",
    "  - 2개의 container를 올림 \n",
    "    - server\n",
    "    - client\n",
    "  \n",
    "```\n",
    "taewan@jupyter_docbase $docker run -dit --name con1 ubuntu /bin/bash \n",
    "5a7e05adcdf8f16125927b67f6583764648d39de3f3352460ca6118958aef976\n",
    "taewan@jupyter_docbase $docker run -dit --name con2 --link con1:con2 ubuntu /bin/bash\n",
    "632a8a07b4794a5b3d77403dbbb8e32a4decb6e2631bff1dadb157d524a7370c\n",
    "```\n",
    "\n",
    "- con2에 접속 후 hosts파일 확인\n",
    "```\n",
    "taewan@jupyter_docbase $docker attach con2\n",
    "root@632a8a07b479:/# cat /etc/hosts \n",
    "127.0.0.1\tlocalhost\n",
    "::1\tlocalhost ip6-localhost ip6-loopback\n",
    "fe00::0\tip6-localnet\n",
    "ff00::0\tip6-mcastprefix\n",
    "ff02::1\tip6-allnodes\n",
    "ff02::2\tip6-allrouters\n",
    "172.17.0.3\tcon2 5a7e05adcdf8 con1\n",
    "172.17.0.4\t632a8a07b479\n",
    "root@632a8a07b479:/#\n",
    "```"
   ]
  }
 ],
 "metadata": {
  "kernelspec": {
   "display_name": "Python 3",
   "language": "python",
   "name": "python3"
  },
  "language_info": {
   "codemirror_mode": {
    "name": "ipython",
    "version": 3
   },
   "file_extension": ".py",
   "mimetype": "text/x-python",
   "name": "python",
   "nbconvert_exporter": "python",
   "pygments_lexer": "ipython3",
   "version": "3.5.2"
  }
 },
 "nbformat": 4,
 "nbformat_minor": 0
}
