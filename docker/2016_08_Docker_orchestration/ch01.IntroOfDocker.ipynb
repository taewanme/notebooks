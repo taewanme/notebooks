{
 "cells": [
  {
   "cell_type": "markdown",
   "metadata": {},
   "source": [
    "# 1장 Docker 뜯어보기"
   ]
  },
  {
   "cell_type": "markdown",
   "metadata": {},
   "source": [
    "- Docker\n",
    "  - 경량화된 컨테이너 기술\n",
    "  - 사용 리눅스 기술\n",
    "    - namespace\n",
    "    - cgroup\n",
    "    - AppArmor 프로파일\n",
    "- 설치 방법\n",
    "  - 리눅스\n",
    "    - apt-get\n",
    "    - yum\n",
    "  - window, os x\n",
    "    - boot2Docker\n",
    "      - VirtualBox위에서 제공하는 IANA에서 지정하는 2375 포트 사용\n",
    "      \n",
    "- Docker의 유래\n",
    "  - dotCloud Inc에서 개발한 Cloud PaaS\n",
    "  - Docker에 관심이 집중되면서 오픈소스로 공개\n",
    "  \n",
    "- Docker 의 성공 요인\n",
    "  - 플랫폼에 종속적이지 않음\n",
    "    - 지원 플랫폼\n",
    "      - Linux\n",
    "      - Window\n",
    "      - OS X\n",
    "  - 시스템 관리자 측면과 개발자 측면에서 쉬운 환경 제공\n",
    "  - 모든 플랫폼에서 동일한 실행 방법을 제공\n",
    "    - 한번의 설정으로 어디서든 실행 가능\n",
    "  - 코드 관리와 배포 단계의 간소화"
   ]
  },
  {
   "cell_type": "markdown",
   "metadata": {},
   "source": [
    " - Docker의 이용\n",
    "   - Developer\n",
    "     - 집중 영역\n",
    "       - 개발 및 실행\n",
    "     - 시스템 관리자\n",
    "       - 컨테이너 배포"
   ]
  },
  {
   "cell_type": "markdown",
   "metadata": {},
   "source": [
    "- Docker와 가상화\n",
    "  - 가상화는 자원의 Overhead가 큼\n",
    "  - Docker는 프로세스만을 격리하는 컨테이너 구성\n",
    "    - 하나의 OS인것 처럼 실행됨\n",
    "    - 실제는 커널을 공유\n",
    "    - namespaces와 cgroups를 이용하여 뛰어난 격리화 기술 제공 "
   ]
  },
  {
   "cell_type": "markdown",
   "metadata": {},
   "source": [
    "- Docker Container & VM\n",
    "![](./images/VM-Diagram.png)"
   ]
  },
  {
   "cell_type": "markdown",
   "metadata": {
    "collapsed": true
   },
   "source": [
    "## 1.1 docker 설치\n",
    "\n",
    "## Ubuntu\n",
    "- Ubuntu Version >= 14.04\n",
    "\n",
    "```bash\n",
    "sudo apt-get upgrade\n",
    "sudo apt-get -y install docker.io\n",
    "sudo ln -s /usr/bin/docker.io /usr/local/bin/docker\n",
    "sudo sed -i '$acomplete -F _docker docker' \\ > /etc/bash_complete.d/docker.io\n",
    "```"
   ]
  },
  {
   "cell_type": "markdown",
   "metadata": {},
   "source": [
    "## mac & window\n",
    "\n",
    "- Boot2Docker\n",
    "- http://boot2docker.io\n"
   ]
  },
  {
   "cell_type": "markdown",
   "metadata": {},
   "source": [
    "## 1.4 설치 검증\n",
    "\n",
    "\n",
    "```bash\n",
    "taewan@ jupyter_docbase $docker run -it ubuntu echo hello world!\n",
    "Unable to find image 'ubuntu:latest' locally\n",
    "latest: Pulling from library/ubuntu\n",
    "ff1f1f1de862: Pull complete \n",
    "0c7b035e2a1a: Pull complete \n",
    "ac8ee255ff41: Pull complete \n",
    "bf3d47be55f8: Pull complete \n",
    "22a909724a97: Pull complete \n",
    "Digest: sha256:3235a49037919e99696d97df8d8a230717272d848ee4ddadbca8d54f97ee30cb\n",
    "Status: Downloaded newer image for ubuntu:latest\n",
    "hello world!\n",
    "```\n",
    "\n",
    "- layer pulling\n",
    "  - Docker가 필요한 파일시스템을 다운로드 함\n",
    "    - AUFS\n",
    "    - 읽기 전용 파일 시스템 레이어\n",
    "    - 각 레이어는 컨터이너끼리 공유 할 수 있음\n",
    "    - 파일 시스템에 쓰기가 발생할 시 컨테이너들은 기존 레이어에 새로운 \n"
   ]
  },
  {
   "cell_type": "code",
   "execution_count": null,
   "metadata": {
    "collapsed": true
   },
   "outputs": [],
   "source": []
  }
 ],
 "metadata": {
  "kernelspec": {
   "display_name": "Python 3",
   "language": "python",
   "name": "python3"
  },
  "language_info": {
   "codemirror_mode": {
    "name": "ipython",
    "version": 3
   },
   "file_extension": ".py",
   "mimetype": "text/x-python",
   "name": "python",
   "nbconvert_exporter": "python",
   "pygments_lexer": "ipython3",
   "version": "3.5.2"
  }
 },
 "nbformat": 4,
 "nbformat_minor": 0
}
