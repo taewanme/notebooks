{
 "cells": [
  {
   "cell_type": "markdown",
   "metadata": {},
   "source": [
    "# 04.함수와 프로토타입 체이닝"
   ]
  },
  {
   "cell_type": "markdown",
   "metadata": {},
   "source": [
    "- 함수생성\n",
    "- 함수객체\n",
    "- 다양한 함수 형태\n",
    "- 함수 호출과 this\n",
    "- 프로토타입과 프로토타입 체이닝"
   ]
  },
  {
   "cell_type": "markdown",
   "metadata": {},
   "source": [
    "- 함수 생성 유형\n",
    "  - function statement\n",
    "  - function expression\n",
    "  - Function() 생성자 함수"
   ]
  },
  {
   "cell_type": "code",
   "execution_count": 3,
   "metadata": {
    "collapsed": false
   },
   "outputs": [
    {
     "name": "stdout",
     "output_type": "stream",
     "text": [
      "7\n"
     ]
    },
    {
     "ename": "ReferenceError",
     "evalue": "sum is not defined",
     "output_type": "error",
     "traceback": [
      "ReferenceError: sum is not defined",
      "    at evalmachine.<anonymous>:6:13",
      "    at ContextifyScript.Script.runInThisContext (vm.js:25:33)",
      "    at Object.exports.runInThisContext (vm.js:77:17)",
      "    at run ([eval]:608:19)",
      "    at onRunRequest ([eval]:379:22)",
      "    at onMessage ([eval]:347:17)",
      "    at emitTwo (events.js:106:13)",
      "    at process.emit (events.js:191:7)",
      "    at process.nextTick (internal/child_process.js:744:12)",
      "    at _combinedTickCallback (internal/process/next_tick.js:67:7)"
     ]
    }
   ],
   "source": [
    "var add = function sum(x, y){\n",
    "    return x+y;\n",
    "};\n",
    "\n",
    "console.log(add(3, 4))\n",
    "console.log(sum(3, 5)) //sum은 재귀호출시 사용하기 위한 함수명임 외부에서 사용 불가"
   ]
  },
  {
   "cell_type": "markdown",
   "metadata": {},
   "source": [
    "- Function() 생성자 함수\n",
    "  - new Function(arg1, arg2, arg3 arg4, ...... , function_body)"
   ]
  },
  {
   "cell_type": "code",
   "execution_count": 5,
   "metadata": {
    "collapsed": false
   },
   "outputs": [
    {
     "data": {
      "text/plain": [
       "3"
      ]
     },
     "execution_count": 5,
     "metadata": {},
     "output_type": "execute_result"
    }
   ],
   "source": [
    "var func = new Function('a', 'b', 'return a+b;')\n",
    "func(1, 2)"
   ]
  },
  {
   "cell_type": "markdown",
   "metadata": {},
   "source": [
    "### 4.1.5 Function Hoisting"
   ]
  },
  {
   "cell_type": "code",
   "execution_count": 9,
   "metadata": {
    "collapsed": false
   },
   "outputs": [
    {
     "name": "stdout",
     "output_type": "stream",
     "text": [
      "5\n",
      "7\n"
     ]
    },
    {
     "data": {
      "text/plain": [
       "undefined"
      ]
     },
     "execution_count": 9,
     "metadata": {},
     "output_type": "execute_result"
    }
   ],
   "source": [
    "console.log(add(2, 3))\n",
    "\n",
    "function add(x, y){ return x+y; }\n",
    "\n",
    "console.log(add(3, 4))"
   ]
  },
  {
   "cell_type": "markdown",
   "metadata": {},
   "source": [
    "- Hoisting이 함수 표현식에는 비적용"
   ]
  },
  {
   "cell_type": "markdown",
   "metadata": {},
   "source": [
    "- Hoisting이 발생하는 원인\n",
    "  - 변수생성 및 초기화가 나우어져 실행됨\n",
    "  "
   ]
  },
  {
   "cell_type": "code",
   "execution_count": 14,
   "metadata": {
    "collapsed": false
   },
   "outputs": [
    {
     "ename": "TypeError",
     "evalue": "add2 is not a function",
     "output_type": "error",
     "traceback": [
      "TypeError: add2 is not a function",
      "    at evalmachine.<anonymous>:1:13",
      "    at ContextifyScript.Script.runInThisContext (vm.js:25:33)",
      "    at Object.exports.runInThisContext (vm.js:77:17)",
      "    at run ([eval]:608:19)",
      "    at onRunRequest ([eval]:379:22)",
      "    at onMessage ([eval]:347:17)",
      "    at emitTwo (events.js:106:13)",
      "    at process.emit (events.js:191:7)",
      "    at process.nextTick (internal/child_process.js:744:12)",
      "    at _combinedTickCallback (internal/process/next_tick.js:67:7)"
     ]
    }
   ],
   "source": [
    "console.log(add2(2, 3))\n",
    "\n",
    "var add2 = function(x, y){ return x+y; }\n",
    "\n",
    "console.log(add2(3, 4))"
   ]
  },
  {
   "cell_type": "markdown",
   "metadata": {},
   "source": [
    "## 함수 객체"
   ]
  },
  {
   "cell_type": "code",
   "execution_count": 16,
   "metadata": {
    "collapsed": false
   },
   "outputs": [
    {
     "name": "stdout",
     "output_type": "stream",
     "text": [
      "{ [Function: add] status: 'OK' }\n"
     ]
    },
    {
     "data": {
      "text/plain": [
       "undefined"
      ]
     },
     "execution_count": 16,
     "metadata": {},
     "output_type": "execute_result"
    }
   ],
   "source": [
    "function add(x, y){\n",
    "    return x+y;\n",
    "}\n",
    "\n",
    "add.status = 'OK'\n",
    "\n",
    "console.dir(add)"
   ]
  },
  {
   "cell_type": "markdown",
   "metadata": {},
   "source": [
    "### 4.2.2 자바스크립트에서 함수는 값"
   ]
  },
  {
   "cell_type": "markdown",
   "metadata": {},
   "source": [
    "- 자바스크립트 동작 방식\n",
    "  - 리터럴에 의해 생성\n",
    "  - 변수나 배열의 요소, 객체 프로퍼티에 할당 가능\n",
    "  - 함수의 인자로 전달 가능\n",
    "  - 함수의 리턴값으로 리턴 가능\n",
    "  - 동적으로 프로퍼티 생성 및 할당 가능\n",
    "  \n",
    "- 자바스크립트에서 함수는 값이며 이를  First Class라고 함\n",
    "  - 일급 객체"
   ]
  },
  {
   "cell_type": "markdown",
   "metadata": {},
   "source": [
    "#### 변수 할당 "
   ]
  },
  {
   "cell_type": "code",
   "execution_count": 17,
   "metadata": {
    "collapsed": false
   },
   "outputs": [
    {
     "name": "stdout",
     "output_type": "stream",
     "text": [
      "100\n",
      "100\n",
      "{ bar: [Function: bar] }\n"
     ]
    },
    {
     "data": {
      "text/plain": [
       "undefined"
      ]
     },
     "execution_count": 17,
     "metadata": {},
     "output_type": "execute_result"
    }
   ],
   "source": [
    "var foo = 100;\n",
    "var bar = function() {return 100;}\n",
    "console.log(bar());\n",
    "\n",
    "var obj = new Object();\n",
    "obj.bar = bar;\n",
    "console.log(obj.bar());\n",
    "console.dir(obj)"
   ]
  },
  {
   "cell_type": "markdown",
   "metadata": {},
   "source": [
    "#### 함수 인자로 전달"
   ]
  },
  {
   "cell_type": "code",
   "execution_count": 19,
   "metadata": {
    "collapsed": false
   },
   "outputs": [
    {
     "name": "stdout",
     "output_type": "stream",
     "text": [
      "파라미터로 전달된 함수가 실행됨`\n",
      "[Function: foo]\n"
     ]
    },
    {
     "data": {
      "text/plain": [
       "undefined"
      ]
     },
     "execution_count": 19,
     "metadata": {},
     "output_type": "execute_result"
    }
   ],
   "source": [
    "var foo = function(func){\n",
    "    func();\n",
    "}\n",
    "\n",
    "foo(\n",
    "    function(){\n",
    "        console.log(\"파라미터로 전달된 함수가 실행됨\")\n",
    "    }\n",
    ");\n",
    "\n",
    "console.dir(foo)"
   ]
  },
  {
   "cell_type": "code",
   "execution_count": null,
   "metadata": {
    "collapsed": true
   },
   "outputs": [],
   "source": [
    "#### "
   ]
  }
 ],
 "metadata": {
  "kernelspec": {
   "display_name": "Javascript (Node.js)",
   "language": "javascript",
   "name": "javascript"
  },
  "language_info": {
   "file_extension": ".js",
   "mimetype": "application/javascript",
   "name": "javascript",
   "version": "6.6.0"
  }
 },
 "nbformat": 4,
 "nbformat_minor": 0
}
