{
 "cells": [
  {
   "cell_type": "markdown",
   "metadata": {},
   "source": [
    "## 1.3 자바스크립트의 핵심 개념"
   ]
  },
  {
   "cell_type": "markdown",
   "metadata": {},
   "source": [
    "- 객체\n",
    "  - Primitive: 변수 할당시 값이 복사 되는 것\n",
    "    - boolean\n",
    "    - number\n",
    "    - string\n",
    "    - null\n",
    "    - undefined\n",
    "  - Primitive가 아닌 나머지 모든것은 객체\n",
    "  - boolean, number, string은 객체 처럼 다룰 수 있으  "
   ]
  },
  {
   "cell_type": "markdown",
   "metadata": {
    "slideshow": {
     "slide_type": "-"
    }
   },
   "source": [
    "- 함수\n",
    "  - First Class Object"
   ]
  },
  {
   "cell_type": "markdown",
   "metadata": {
    "slideshow": {
     "slide_type": "-"
    }
   },
   "source": [
    "- Prototype\n",
    "  - ECMAScript에서는 [[Prototype]]이라고 표현\n",
    "  - 실행 컨텍스트를 만들고 수행\n",
    "  - 자신만의 Scope를 가짐"
   ]
  },
  {
   "cell_type": "markdown",
   "metadata": {
    "slideshow": {
     "slide_type": "-"
    }
   },
   "source": [
    "- Execution Context"
   ]
  },
  {
   "cell_type": "markdown",
   "metadata": {
    "slideshow": {
     "slide_type": "-"
    }
   },
   "source": [
    "- Closure"
   ]
  },
  {
   "cell_type": "markdown",
   "metadata": {
    "slideshow": {
     "slide_type": "-"
    }
   },
   "source": [
    "# 1.6 자바스크립트의 단점"
   ]
  },
  {
   "cell_type": "markdown",
   "metadata": {
    "slideshow": {
     "slide_type": "-"
    }
   },
   "source": [
    "- 스펙 현황\n",
    "    - ECMAScript 3를 바탕으로 함\n",
    "    - ECMAScript 5 최종 승인: 2009\n",
    "    - ECMAScript 2015 확정 "
   ]
  },
  {
   "cell_type": "code",
   "execution_count": null,
   "metadata": {
    "collapsed": true,
    "slideshow": {
     "slide_type": "-"
    }
   },
   "outputs": [],
   "source": []
  }
 ],
 "metadata": {
  "celltoolbar": "Slideshow",
  "kernelspec": {
   "display_name": "Javascript (Node.js)",
   "language": "javascript",
   "name": "javascript"
  },
  "language_info": {
   "file_extension": ".js",
   "mimetype": "application/javascript",
   "name": "javascript",
   "version": "6.6.0"
  }
 },
 "nbformat": 4,
 "nbformat_minor": 0
}
