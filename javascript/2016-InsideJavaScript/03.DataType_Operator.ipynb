{
 "cells": [
  {
   "cell_type": "markdown",
   "metadata": {},
   "source": [
    "# 3장. 자바스크립트 데이터 타입과 연산자"
   ]
  },
  {
   "cell_type": "markdown",
   "metadata": {},
   "source": [
    "- Primitive Type\n",
    "  - Number\n",
    "  - String\n",
    "  - Boolean\n",
    "  - undefined\n",
    "  - null\n",
    "- 참조 타임\n",
    "  - Primitive type이 아닌 모든 것\n",
    "- Object\n",
    "  - Array\n",
    "  - Function\n",
    "  - Regex"
   ]
  },
  {
   "cell_type": "code",
   "execution_count": 3,
   "metadata": {
    "collapsed": false
   },
   "outputs": [
    {
     "name": "stdout",
     "output_type": "stream",
     "text": [
      "number\n",
      "number\n",
      "string\n",
      "string\n",
      "string\n",
      "boolean\n",
      "undefined\n",
      "object\n"
     ]
    },
    {
     "data": {
      "text/plain": [
       "undefined"
      ]
     },
     "execution_count": 3,
     "metadata": {},
     "output_type": "execute_result"
    }
   ],
   "source": [
    "var intNum = 10\n",
    "var floatNum = 10.0\n",
    "\n",
    "var singleQuoteStr = 'Single Quote String'\n",
    "var doubleQuoteStr = \"Double Quote String\"\n",
    "var singleChar = 'a'\n",
    "\n",
    "var boolean = true;\n",
    "\n",
    "var undefinedVar;\n",
    "\n",
    "var nullVar = null;\n",
    "\n",
    "console.log(typeof intNum)\n",
    "console.log(typeof floatNum)\n",
    "console.log(typeof singleQuoteStr)\n",
    "console.log(typeof doubleQuoteStr)\n",
    "console.log(typeof singleChar)\n",
    "console.log(typeof boolean)\n",
    "console.log(typeof undefinedVar)\n",
    "console.log(typeof nullVar)"
   ]
  },
  {
   "cell_type": "markdown",
   "metadata": {},
   "source": [
    "- nullVar이 타입은 Object임"
   ]
  },
  {
   "cell_type": "markdown",
   "metadata": {},
   "source": [
    "### 3.1.1 Number\n",
    "- 64 bit 부동 소수점 형태로 저장\n"
   ]
  },
  {
   "cell_type": "code",
   "execution_count": 10,
   "metadata": {
    "collapsed": false
   },
   "outputs": [
    {
     "name": "stdout",
     "output_type": "stream",
     "text": [
      "2.5\n",
      "2\n"
     ]
    },
    {
     "data": {
      "text/plain": [
       "undefined"
      ]
     },
     "execution_count": 10,
     "metadata": {},
     "output_type": "execute_result"
    }
   ],
   "source": [
    "var num = 5/2\n",
    "console.log(num) //부동 소수점 반환\n",
    "console.log(Math.floor(num)) //정수부만 출력하기"
   ]
  },
  {
   "cell_type": "markdown",
   "metadata": {},
   "source": [
    "# 3.1.2 null과 undefined"
   ]
  },
  {
   "cell_type": "markdown",
   "metadata": {},
   "source": [
    "- undefined는 타입이며 동시에 값\n",
    "- null의 typeof 결과는 Object임"
   ]
  },
  {
   "cell_type": "code",
   "execution_count": 12,
   "metadata": {
    "collapsed": false
   },
   "outputs": [
    {
     "name": "stdout",
     "output_type": "stream",
     "text": [
      "false\n",
      "true\n",
      "true\n"
     ]
    },
    {
     "data": {
      "text/plain": [
       "undefined"
      ]
     },
     "execution_count": 12,
     "metadata": {},
     "output_type": "execute_result"
    }
   ],
   "source": [
    "var nullVar = null\n",
    "console.log(typeof nullVar === null)\n",
    "console.log(typeof nullVar === 'object')\n",
    "console.log(nullVar === null)"
   ]
  },
  {
   "cell_type": "markdown",
   "metadata": {},
   "source": [
    "## 3.2 자바스크립트의 참조 모델"
   ]
  },
  {
   "cell_type": "markdown",
   "metadata": {},
   "source": [
    "- 자바스크립트의 객체\n",
    "    - key/value 형태의 프로퍼티를 저장하는 컨테이너\n",
    "    - 자료 구조: Hash와 유사\n",
    "    - {}\n",
    "- 객체 생성 방법\n",
    "  - Object Literal\n",
    "  - 생성자 함수"
   ]
  },
  {
   "cell_type": "code",
   "execution_count": 15,
   "metadata": {
    "collapsed": false
   },
   "outputs": [
    {
     "name": "stdout",
     "output_type": "stream",
     "text": [
      "object\n",
      "{ name: 'taewan kim', age: 42, gender: 'male' }\n"
     ]
    },
    {
     "data": {
      "text/plain": [
       "undefined"
      ]
     },
     "execution_count": 15,
     "metadata": {},
     "output_type": "execute_result"
    }
   ],
   "source": [
    "//생성자 함수\n",
    "\n",
    "var person = new Object();\n",
    "person.name = 'taewan kim'\n",
    "person.age = 42\n",
    "person.gender = 'male'\n",
    "\n",
    "console.log(typeof person)\n",
    "console.log(person)"
   ]
  },
  {
   "cell_type": "code",
   "execution_count": 17,
   "metadata": {
    "collapsed": false
   },
   "outputs": [
    {
     "name": "stdout",
     "output_type": "stream",
     "text": [
      "object\n",
      "{ name: 'taewan kim', age: 42, gender: 'male' }\n"
     ]
    },
    {
     "data": {
      "text/plain": [
       "undefined"
      ]
     },
     "execution_count": 17,
     "metadata": {},
     "output_type": "execute_result"
    }
   ],
   "source": [
    "//객체 리터럴 방식\n",
    "var person = { name: 'taewan kim', age: 42, gender: 'male' }\n",
    "console.log(typeof person)\n",
    "console.log(person)"
   ]
  },
  {
   "cell_type": "markdown",
   "metadata": {},
   "source": [
    "### 3.2.1.3  생성자 함수 이용"
   ]
  },
  {
   "cell_type": "markdown",
   "metadata": {},
   "source": [
    "- 객체를 생성하는 함수\n",
    "  - 생성자 함수\n",
    "  - 4장에서 다룸"
   ]
  },
  {
   "cell_type": "markdown",
   "metadata": {},
   "source": [
    "### 3.2.2 객체 프로퍼티 CRUD"
   ]
  },
  {
   "cell_type": "markdown",
   "metadata": {},
   "source": [
    "- 대활호 - []\n",
    "- 마침표"
   ]
  },
  {
   "cell_type": "code",
   "execution_count": 23,
   "metadata": {
    "collapsed": false
   },
   "outputs": [
    {
     "name": "stdout",
     "output_type": "stream",
     "text": [
      "foo\n",
      "foo\n",
      "undefined\n",
      "test\n",
      "oracle\n"
     ]
    },
    {
     "ename": "ReferenceError",
     "evalue": "name is not defined",
     "output_type": "error",
     "traceback": [
      "ReferenceError: name is not defined",
      "    at evalmachine.<anonymous>:17:22",
      "    at ContextifyScript.Script.runInThisContext (vm.js:25:33)",
      "    at Object.exports.runInThisContext (vm.js:77:17)",
      "    at run ([eval]:608:19)",
      "    at onRunRequest ([eval]:379:22)",
      "    at onMessage ([eval]:347:17)",
      "    at emitTwo (events.js:106:13)",
      "    at process.emit (events.js:191:7)",
      "    at process.nextTick (internal/child_process.js:744:12)",
      "    at _combinedTickCallback (internal/process/next_tick.js:67:7)"
     ]
    }
   ],
   "source": [
    "var foo = {\n",
    "    name: 'foo',\n",
    "    company: 'Not Yet'\n",
    "}\n",
    "\n",
    "console.log(foo.name)\n",
    "console.log(foo['name'])\n",
    "console.log(foo.nickname) //undefined\n",
    "\n",
    "foo.company = 'oracle'\n",
    "foo['name']='test'\n",
    "\n",
    "console.log(foo.name)\n",
    "console.log(foo.company)\n",
    "\n",
    "foo['full-name']='taewan kim'\n",
    "console.log(foo.full-name) //명명 규칙에 유의\n",
    "console.log(foo[full-name])\n"
   ]
  },
  {
   "cell_type": "markdown",
   "metadata": {},
   "source": [
    "- NaN\n",
    "  - Not a Number\n",
    "  - 정상적인 값을 얻지 못할 때 \n",
    "  - NaN은 자신을 포함한 모든 수와 다름"
   ]
  },
  {
   "cell_type": "code",
   "execution_count": 35,
   "metadata": {
    "collapsed": false
   },
   "outputs": [
    {
     "name": "stdout",
     "output_type": "stream",
     "text": [
      "foo\n",
      "Not Yet\n",
      "42\n"
     ]
    },
    {
     "data": {
      "text/plain": [
       "undefined"
      ]
     },
     "execution_count": 35,
     "metadata": {},
     "output_type": "execute_result"
    }
   ],
   "source": [
    "var foo = {\n",
    "    name: 'foo',\n",
    "    company: 'Not Yet',\n",
    "    age:42\n",
    "}\n",
    "for (prop in foo){\n",
    "    if(foo.hasOwnProperty(prop)){\n",
    "        console.log(foo[prop])\n",
    "    }\n",
    "}"
   ]
  },
  {
   "cell_type": "code",
   "execution_count": 37,
   "metadata": {
    "collapsed": false
   },
   "outputs": [
    {
     "name": "stdout",
     "output_type": "stream",
     "text": [
      "{ name: 'foo', company: 'Not Yet', age: 42 }\n",
      "{ company: 'Not Yet', age: 42 }\n",
      "{ company: 'Not Yet' }\n"
     ]
    },
    {
     "data": {
      "text/plain": [
       "undefined"
      ]
     },
     "execution_count": 37,
     "metadata": {},
     "output_type": "execute_result"
    }
   ],
   "source": [
    "var foo = {\n",
    "    name: 'foo',\n",
    "    company: 'Not Yet',\n",
    "    age:42\n",
    "}\n",
    "console.log(foo)\n",
    "\n",
    "delete foo.name\n",
    "console.log(foo)\n",
    "\n",
    "delete foo.age\n",
    "console.log(foo)"
   ]
  },
  {
   "cell_type": "markdown",
   "metadata": {},
   "source": [
    "- property 삭제\n",
    "- delete"
   ]
  },
  {
   "cell_type": "markdown",
   "metadata": {},
   "source": [
    "# 3.3 참조 타입의 특성"
   ]
  },
  {
   "cell_type": "markdown",
   "metadata": {},
   "source": [
    "### 3.3.1 객체 비교"
   ]
  },
  {
   "cell_type": "markdown",
   "metadata": {},
   "source": [
    "- == : 참조 값을 비교\n",
    "  - primitive: 값\n",
    "  - 참조: reference 값\n",
    "- "
   ]
  },
  {
   "cell_type": "markdown",
   "metadata": {},
   "source": [
    "## 3.4 프로토타입"
   ]
  },
  {
   "cell_type": "markdown",
   "metadata": {},
   "source": [
    "- 모든 객체는 자신의 부모 역할을 하는 객체와 연결되어 있음\n",
    "- 부모 역할 객체를 Prototype 객체라고 함"
   ]
  },
  {
   "cell_type": "code",
   "execution_count": 40,
   "metadata": {
    "collapsed": false
   },
   "outputs": [
    {
     "name": "stdout",
     "output_type": "stream",
     "text": [
      "[object Object]\n",
      "{ name: 'foo', company: 'Not Yet', age: 42 }\n"
     ]
    },
    {
     "data": {
      "text/plain": [
       "undefined"
      ]
     },
     "execution_count": 40,
     "metadata": {},
     "output_type": "execute_result"
    }
   ],
   "source": [
    "var foo = {\n",
    "    name: 'foo',\n",
    "    company: 'Not Yet',\n",
    "    age:42\n",
    "}\n",
    "console.log(foo.toString())\n",
    "console.dir(foo)"
   ]
  },
  {
   "cell_type": "markdown",
   "metadata": {},
   "source": [
    "- __proto__ 프로퍼티는 Prototype 객체를 참조\n",
    "- 모든 객체는 자신의 프로토타입 객체를 가리키는 [[Prototype]]이라는 숨겨진 프로퍼티를 가짐\n",
    "- 객체 리터럴 방식으로 생성될 경우 Object.prototype 객체가 프로토타입 객체가 됨\n",
    "\n",
    "\t\n",
    "![](./images/prototype.png)"
   ]
  },
  {
   "cell_type": "code",
   "execution_count": null,
   "metadata": {
    "collapsed": true
   },
   "outputs": [],
   "source": []
  },
  {
   "cell_type": "markdown",
   "metadata": {},
   "source": [
    "## 3.5 배열\n",
    "- array는 특별한 객체\n",
    "- 크기를 지정할 필요가 없음\n",
    "- 어디에든 데이터를 저장 할 수 있음\n",
    "- 배열 리터럴: []"
   ]
  },
  {
   "cell_type": "code",
   "execution_count": 52,
   "metadata": {
    "collapsed": false
   },
   "outputs": [
    {
     "name": "stdout",
     "output_type": "stream",
     "text": [
      "object\n",
      "true\n",
      "1\n",
      "2\n",
      "undefined\n"
     ]
    },
    {
     "data": {
      "text/plain": [
       "undefined"
      ]
     },
     "execution_count": 52,
     "metadata": {},
     "output_type": "execute_result"
    }
   ],
   "source": [
    "var numArr = [1, 2, 3, 4, 5, 6, 7]\n",
    "console.log(typeof numArr)\n",
    "console.log(numArr instanceof Array)\n",
    "\n",
    "console.log(numArr[0])\n",
    "console.log(numArr[1])\n",
    "console.log(numArr[100])"
   ]
  },
  {
   "cell_type": "code",
   "execution_count": 71,
   "metadata": {
    "collapsed": false
   },
   "outputs": [
    {
     "name": "stdout",
     "output_type": "stream",
     "text": [
      "11\n",
      "[ 1, 2, 3, 4, 5, 6, 7, , , , 100 ]\n"
     ]
    },
    {
     "data": {
      "text/plain": [
       "undefined"
      ]
     },
     "execution_count": 71,
     "metadata": {},
     "output_type": "execute_result"
    }
   ],
   "source": [
    "numArr[10]=100\n",
    "\n",
    "console.log(numArr.length)\n",
    "console.log(numArr)"
   ]
  },
  {
   "cell_type": "markdown",
   "metadata": {
    "collapsed": true
   },
   "source": [
    "- 배열의 length항목에 결과를 저장\n",
    "- Array 메서드\n",
    "  - push, pup은 length 프로퍼키를 이용하여 처리\n",
    "\n",
    "- legngh에 값을 할당 할 수 있음\n",
    "  - push은 length 인덱스에 신규 값을 할당"
   ]
  },
  {
   "cell_type": "code",
   "execution_count": 72,
   "metadata": {
    "collapsed": false
   },
   "outputs": [
    {
     "name": "stdout",
     "output_type": "stream",
     "text": [
      "push result: 4\n",
      "[ 1, 2, 3, 4 ]\n",
      "[ 1, 2, 3, 4, , 5 ]\n",
      "[ 1, 2, 3, 4,  ]\n"
     ]
    },
    {
     "data": {
      "text/plain": [
       "undefined"
      ]
     },
     "execution_count": 72,
     "metadata": {},
     "output_type": "execute_result"
    }
   ],
   "source": [
    "var arr = [1, 2, 3]\n",
    "var a = arr.push(4) //length인덱스에 값 추가\n",
    "console.log(\"push result:\",a)\n",
    "console.log(arr)\n",
    "arr.length = arr.length + 1 \n",
    "arr.push(5) \n",
    "console.log(arr)\n",
    "\n",
    "arr.pop()\n",
    "console.log(arr)"
   ]
  },
  {
   "cell_type": "markdown",
   "metadata": {},
   "source": [
    "![](./images/array.png)"
   ]
  },
  {
   "cell_type": "code",
   "execution_count": 79,
   "metadata": {
    "collapsed": false
   },
   "outputs": [
    {
     "name": "stdout",
     "output_type": "stream",
     "text": [
      "[ 1, 2, 3, name: 'num array' ]\n",
      "3\n",
      "0 1\n",
      "1 2\n",
      "2 3\n",
      "name num array\n",
      "======================\n",
      "0 1\n",
      "1 2\n",
      "2 3\n"
     ]
    },
    {
     "data": {
      "text/plain": [
       "undefined"
      ]
     },
     "execution_count": 79,
     "metadata": {},
     "output_type": "execute_result"
    }
   ],
   "source": [
    "var arr = [1, 2, 3]\n",
    "arr.name = \"num array\"\n",
    "console.dir(arr)\n",
    "console.log(arr.length)\n",
    "\n",
    "//배열 프로퍼티 출력\n",
    "for(var prop in arr){\n",
    "    console.log(prop, arr[prop])\n",
    "}\n",
    "console.log(\"======================\")\n",
    "//arr 객체에 주가한 프로퍼티까지 출력\n",
    "\n",
    "for(var i=0;i<arr.length;i++){\n",
    "    console.log(i, arr[i])\n",
    "}"
   ]
  },
  {
   "cell_type": "markdown",
   "metadata": {},
   "source": [
    "### 3.5.7 배열 요소 삭제"
   ]
  },
  {
   "cell_type": "code",
   "execution_count": 82,
   "metadata": {
    "collapsed": false
   },
   "outputs": [
    {
     "name": "stdout",
     "output_type": "stream",
     "text": [
      "[ 1, , 3 ]\n"
     ]
    },
    {
     "data": {
      "text/plain": [
       "undefined"
      ]
     },
     "execution_count": 82,
     "metadata": {},
     "output_type": "execute_result"
    }
   ],
   "source": [
    "var arr = [1, 2, 3]\n",
    "delete arr[1]\n",
    "console.dir(arr)"
   ]
  },
  {
   "cell_type": "markdown",
   "metadata": {},
   "source": [
    "- 완전 삭제시 slice를 이용\n",
    "- slice(start, deleteCount, item....)\n",
    "  - start: 시작위치\n",
    "  - deleteCount: 갯수\n",
    "  - item: 삭제할 위치에 추가할 요소\n",
    " "
   ]
  },
  {
   "cell_type": "code",
   "execution_count": 85,
   "metadata": {
    "collapsed": false
   },
   "outputs": [
    {
     "name": "stdout",
     "output_type": "stream",
     "text": [
      "[ 1, 2, 4, 5 ]\n",
      "4\n"
     ]
    },
    {
     "data": {
      "text/plain": [
       "undefined"
      ]
     },
     "execution_count": 85,
     "metadata": {},
     "output_type": "execute_result"
    }
   ],
   "source": [
    "var arr = [1, 2, 3, 4, 5]\n",
    "arr.splice(2, 1) //3 이 빠짐\n",
    "console.log(arr)\n",
    "console.log(arr.length)"
   ]
  },
  {
   "cell_type": "markdown",
   "metadata": {},
   "source": [
    "### 3.5.8 Array() 생성자 함수"
   ]
  },
  {
   "cell_type": "code",
   "execution_count": 88,
   "metadata": {
    "collapsed": false
   },
   "outputs": [
    {
     "name": "stdout",
     "output_type": "stream",
     "text": [
      "[ , ,  ]\n",
      "3\n",
      "====================\n",
      "[ 1, 2, 3, 4, 5 ]\n",
      "5\n"
     ]
    },
    {
     "data": {
      "text/plain": [
       "undefined"
      ]
     },
     "execution_count": 88,
     "metadata": {},
     "output_type": "execute_result"
    }
   ],
   "source": [
    "var foo = new Array(3); //[ , ,  ]\n",
    "console.log(foo)    \n",
    "console.log(foo.length)\n",
    "console.log(\"====================\")\n",
    "foo = new Array(1, 2, 3, 4, 5)\n",
    "console.log(foo)    \n",
    "console.log(foo.length)\n",
    "\n",
    "\n"
   ]
  },
  {
   "cell_type": "markdown",
   "metadata": {},
   "source": [
    "- 일반 객체에 length 프로퍼티를 갖는 것을 유사 배열 객체(array-like objects)라고 함"
   ]
  },
  {
   "cell_type": "markdown",
   "metadata": {},
   "source": [
    "### 3.7.2 typeof"
   ]
  },
  {
   "cell_type": "markdown",
   "metadata": {},
   "source": [
    "- 숫자: 'number'\n",
    "- 문자열: 'string'\n",
    "- 불린값: 'boolean'\n",
    "- null: 'object'\n",
    "- undefined: 'undefined'\n",
    "- 객체: 'object'\n",
    "- 배열: 'object'\n",
    "- 함수: 'function'"
   ]
  },
  {
   "cell_type": "markdown",
   "metadata": {},
   "source": [
    "### 3.7.3 ==, ===\n",
    "- ===: 타입까지 비교\n",
    "- ==: 형변환을 하여 비교 "
   ]
  },
  {
   "cell_type": "code",
   "execution_count": 90,
   "metadata": {
    "collapsed": false
   },
   "outputs": [
    {
     "name": "stdout",
     "output_type": "stream",
     "text": [
      "true\n",
      "false\n"
     ]
    },
    {
     "data": {
      "text/plain": [
       "undefined"
      ]
     },
     "execution_count": 90,
     "metadata": {},
     "output_type": "execute_result"
    }
   ],
   "source": [
    "console.log(111 == '111')\n",
    "console.log(111 === '111')"
   ]
  },
  {
   "cell_type": "markdown",
   "metadata": {},
   "source": [
    "### 3.7.4 !!\n",
    "- 피연산자를 boolean으로 변경 "
   ]
  },
  {
   "cell_type": "code",
   "execution_count": 89,
   "metadata": {
    "collapsed": false
   },
   "outputs": [
    {
     "name": "stdout",
     "output_type": "stream",
     "text": [
      "false\n",
      "true\n",
      "true\n",
      "false\n",
      "true\n",
      "false\n",
      "false\n",
      "false\n",
      "true\n"
     ]
    },
    {
     "data": {
      "text/plain": [
       "undefined"
      ]
     },
     "execution_count": 89,
     "metadata": {},
     "output_type": "execute_result"
    }
   ],
   "source": [
    "console.log(!!0)\n",
    "console.log(!!1)\n",
    "console.log(!!'kkk')\n",
    "console.log(!!'')\n",
    "console.log(!!true)\n",
    "console.log(!!false)\n",
    "console.log(!!undefined)\n",
    "console.log(!!null)\n",
    "console.log(!![1, 2, 3])"
   ]
  },
  {
   "cell_type": "code",
   "execution_count": null,
   "metadata": {
    "collapsed": true
   },
   "outputs": [],
   "source": []
  }
 ],
 "metadata": {
  "kernelspec": {
   "display_name": "Javascript (Node.js)",
   "language": "javascript",
   "name": "javascript"
  },
  "language_info": {
   "file_extension": ".js",
   "mimetype": "application/javascript",
   "name": "javascript",
   "version": "6.6.0"
  }
 },
 "nbformat": 4,
 "nbformat_minor": 0
}
