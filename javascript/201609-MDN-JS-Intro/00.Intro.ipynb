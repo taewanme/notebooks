{
 "cells": [
  {
   "cell_type": "markdown",
   "metadata": {},
   "source": [
    "----"
   ]
  },
  {
   "cell_type": "markdown",
   "metadata": {},
   "source": [
    "# JavaScript란 무엇인가?"
   ]
  },
  {
   "cell_type": "markdown",
   "metadata": {},
   "source": [
    "- JavaScript\n",
    "  - NetScape에서 개발한 객체 스크립트 언어\n",
    "  - 인터프리터형 언어\n",
    "  - 일급 함수를 지원\n",
    "  - 사용처:  node.js, apache couchDB, 웹페이지를 위한 스크립트\n",
    "  - 프로토타입 기반의 객체 구문을 지원하는 동적인 스크립트 언어\n",
    "  - 지원 언어 타입\n",
    "    - 객체지향형\n",
    "    - 명령형\n",
    "    - 함수형 \n",
    "  - 기본 문법\n",
    "    - Java와 C++을 기반으로 함\n",
    "\n",
    "- 언어적인 특징\n",
    "  - 절차지향\n",
    "  - 객체지향\n",
    "    - 프로토타입을 기반으로 함\n",
    "    - 고유 Object\n",
    "      - Number\n",
    "      - String\n",
    "      - Boolean\n",
    "      - Date\n",
    "      - RegExp\n",
    "      - Math\n",
    "      \n",
    "- Mozilla의 자바스크립트 구현\n",
    "  - SpiderMonkey: Brendan Eich가 작성하고 ECMA-262 개정 3판 (JavaScript 1.5)를 지원\n",
    "      - 구현체 c\n",
    "  - Rhino: ECMA-262 개정 3판 준"
   ]
  },
  {
   "cell_type": "markdown",
   "metadata": {},
   "source": [
    "# reference\n",
    "\n",
    "- https://developer.mozilla.org/ko/docs/Web/JavaScript\n",
    "- https://developer.mozilla.org/ko/docs/Web/JavaScript/About\n"
   ]
  }
 ],
 "metadata": {
  "kernelspec": {
   "display_name": "Javascript (Node.js)",
   "language": "javascript",
   "name": "javascript"
  },
  "language_info": {
   "file_extension": ".js",
   "mimetype": "application/javascript",
   "name": "javascript",
   "version": "6.6.0"
  }
 },
 "nbformat": 4,
 "nbformat_minor": 0
}
