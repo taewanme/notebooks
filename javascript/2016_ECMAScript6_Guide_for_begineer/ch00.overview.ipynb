{
 "cells": [
  {
   "cell_type": "markdown",
   "metadata": {},
   "source": [
    "# ECMAScript 6 길들이기\n",
    "\n",
    "- Press: Acorn\n",
    "\n",
    "- History of Reading \n",
    "    - First time\n",
    "    - Start: 2016.09.24\n",
    "    - Status: in progerss"
   ]
  },
  {
   "cell_type": "markdown",
   "metadata": {},
   "source": [
    "----"
   ]
  },
  {
   "cell_type": "markdown",
   "metadata": {},
   "source": [
    "# 역자주\n",
    "- 역자: 이일웅\n",
    "  - leeilwoong@gmail.com\n",
    "  - www.bullion.pe.kr\n",
    "- ECMS-262의 여섯번째 버전 ECMAScript 6는 2015.06.17 발표\n",
    "- 2016년 01월 현재 각 브라우저는 ECMAScript 5의 일부를 적용 중\n",
    "\n"
   ]
  },
  {
   "cell_type": "markdown",
   "metadata": {},
   "source": [
    "# 들어가며\n",
    "\n",
    "- ECMAScript\n",
    "  - 표준 스트립트 언어\n",
    "      - 준수 스펙: \n",
    "       - ECMA의 ECMA-262 스펙\n",
    "       - ISO/IEC 16262 스펙\n",
    "\n",
    "- JavaScript JScrit ActionScript는 ECMAScpirt의 상위 집합\n",
    "  - 더 많은 객체/메소드 포함\n",
    "  - 핵심 기능은 ECMAScript에 근거\n",
    "  \n",
    "- ECMAScript 6를 줄여 ES6라고 함"
   ]
  },
  {
   "cell_type": "markdown",
   "metadata": {},
   "source": [
    "## 실습 환경\n",
    "- Browser\n",
    "- Nodejs\n",
    "- Apache Codova"
   ]
  },
  {
   "cell_type": "markdown",
   "metadata": {},
   "source": [
    "## 목차\n",
    "- 1장 문법 맛보기\n",
    "- 2장 라이브러리\n",
    "- 3장 이터레이터\n",
    "- 4장 비동기 프로그래밍\n",
    "- 5장 리플렉션 API 구현\n",
    "- 6장 프록시\n",
    "- 7장 클래스 답사"
   ]
  }
 ],
 "metadata": {
  "kernelspec": {
   "display_name": "Javascript (Node.js)",
   "language": "javascript",
   "name": "javascript"
  },
  "language_info": {
   "file_extension": ".js",
   "mimetype": "application/javascript",
   "name": "javascript",
   "version": "6.6.0"
  }
 },
 "nbformat": 4,
 "nbformat_minor": 0
}
